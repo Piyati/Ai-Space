{
 "cells": [
  {
   "cell_type": "markdown",
   "metadata": {
    "toc": true
   },
   "source": [
    "<h1>Table of Contents<span class=\"tocSkip\"></span></h1>\n",
    "<div class=\"toc\"><ul class=\"toc-item\"><li><span><a href=\"#OLS-Regression\" data-toc-modified-id=\"OLS-Regression-1\"><span class=\"toc-item-num\">1&nbsp;&nbsp;</span>OLS Regression</a></span></li><li><span><a href=\"#Your-Turn----Activity-I:-Murder-rate-model\" data-toc-modified-id=\"Your-Turn----Activity-I:-Murder-rate-model-2\"><span class=\"toc-item-num\">2&nbsp;&nbsp;</span>Your Turn -- Activity I: Murder rate model</a></span></li><li><span><a href=\"#Your-Turn----Activity-II:-Partial-F-Test\" data-toc-modified-id=\"Your-Turn----Activity-II:-Partial-F-Test-3\"><span class=\"toc-item-num\">3&nbsp;&nbsp;</span>Your Turn -- Activity II: Partial F-Test</a></span></li></ul></div>"
   ]
  },
  {
   "cell_type": "markdown",
   "metadata": {},
   "source": [
    "## OLS Regression"
   ]
  },
  {
   "cell_type": "code",
   "execution_count": 17,
   "metadata": {},
   "outputs": [
    {
     "name": "stdout",
     "output_type": "stream",
     "text": [
      "\n",
      "Enabling interactive shell outputs ...\n",
      "   Use command pass; to disable cell text outputs\n"
     ]
    }
   ],
   "source": [
    "print('\\nEnabling interactive shell outputs ...')\n",
    "print('   Use command pass; to disable cell text outputs')\n",
    "from IPython.core.interactiveshell import InteractiveShell\n",
    "InteractiveShell.ast_node_interactivity = \"all\"\n",
    "\n",
    "import warnings\n",
    "warnings.filterwarnings('ignore') \n",
    "warnings.simplefilter(action=\"ignore\",category=UserWarning)\n",
    "warnings.simplefilter(action=\"ignore\",category=FutureWarning)"
   ]
  },
  {
   "cell_type": "code",
   "execution_count": 18,
   "metadata": {
    "scrolled": true
   },
   "outputs": [
    {
     "data": {
      "text/html": [
       "<div>\n",
       "<style scoped>\n",
       "    .dataframe tbody tr th:only-of-type {\n",
       "        vertical-align: middle;\n",
       "    }\n",
       "\n",
       "    .dataframe tbody tr th {\n",
       "        vertical-align: top;\n",
       "    }\n",
       "\n",
       "    .dataframe thead th {\n",
       "        text-align: right;\n",
       "    }\n",
       "</style>\n",
       "<table border=\"1\" class=\"dataframe\">\n",
       "  <thead>\n",
       "    <tr style=\"text-align: right;\">\n",
       "      <th></th>\n",
       "      <th>Temperature</th>\n",
       "      <th>Catalyst</th>\n",
       "      <th>Viscosity</th>\n",
       "    </tr>\n",
       "  </thead>\n",
       "  <tbody>\n",
       "    <tr>\n",
       "      <th>0</th>\n",
       "      <td>80</td>\n",
       "      <td>8</td>\n",
       "      <td>2256</td>\n",
       "    </tr>\n",
       "    <tr>\n",
       "      <th>1</th>\n",
       "      <td>93</td>\n",
       "      <td>9</td>\n",
       "      <td>2340</td>\n",
       "    </tr>\n",
       "    <tr>\n",
       "      <th>2</th>\n",
       "      <td>100</td>\n",
       "      <td>10</td>\n",
       "      <td>2426</td>\n",
       "    </tr>\n",
       "    <tr>\n",
       "      <th>3</th>\n",
       "      <td>82</td>\n",
       "      <td>12</td>\n",
       "      <td>2293</td>\n",
       "    </tr>\n",
       "    <tr>\n",
       "      <th>4</th>\n",
       "      <td>90</td>\n",
       "      <td>11</td>\n",
       "      <td>2330</td>\n",
       "    </tr>\n",
       "    <tr>\n",
       "      <th>5</th>\n",
       "      <td>99</td>\n",
       "      <td>8</td>\n",
       "      <td>2368</td>\n",
       "    </tr>\n",
       "    <tr>\n",
       "      <th>6</th>\n",
       "      <td>81</td>\n",
       "      <td>8</td>\n",
       "      <td>2250</td>\n",
       "    </tr>\n",
       "    <tr>\n",
       "      <th>7</th>\n",
       "      <td>96</td>\n",
       "      <td>10</td>\n",
       "      <td>2409</td>\n",
       "    </tr>\n",
       "    <tr>\n",
       "      <th>8</th>\n",
       "      <td>94</td>\n",
       "      <td>12</td>\n",
       "      <td>2364</td>\n",
       "    </tr>\n",
       "    <tr>\n",
       "      <th>9</th>\n",
       "      <td>93</td>\n",
       "      <td>11</td>\n",
       "      <td>2379</td>\n",
       "    </tr>\n",
       "    <tr>\n",
       "      <th>10</th>\n",
       "      <td>97</td>\n",
       "      <td>13</td>\n",
       "      <td>2440</td>\n",
       "    </tr>\n",
       "    <tr>\n",
       "      <th>11</th>\n",
       "      <td>95</td>\n",
       "      <td>11</td>\n",
       "      <td>2364</td>\n",
       "    </tr>\n",
       "    <tr>\n",
       "      <th>12</th>\n",
       "      <td>100</td>\n",
       "      <td>8</td>\n",
       "      <td>2404</td>\n",
       "    </tr>\n",
       "    <tr>\n",
       "      <th>13</th>\n",
       "      <td>85</td>\n",
       "      <td>12</td>\n",
       "      <td>2317</td>\n",
       "    </tr>\n",
       "    <tr>\n",
       "      <th>14</th>\n",
       "      <td>86</td>\n",
       "      <td>9</td>\n",
       "      <td>2309</td>\n",
       "    </tr>\n",
       "    <tr>\n",
       "      <th>15</th>\n",
       "      <td>87</td>\n",
       "      <td>12</td>\n",
       "      <td>2328</td>\n",
       "    </tr>\n",
       "  </tbody>\n",
       "</table>\n",
       "</div>"
      ],
      "text/plain": [
       "    Temperature  Catalyst  Viscosity\n",
       "0            80         8       2256\n",
       "1            93         9       2340\n",
       "2           100        10       2426\n",
       "3            82        12       2293\n",
       "4            90        11       2330\n",
       "5            99         8       2368\n",
       "6            81         8       2250\n",
       "7            96        10       2409\n",
       "8            94        12       2364\n",
       "9            93        11       2379\n",
       "10           97        13       2440\n",
       "11           95        11       2364\n",
       "12          100         8       2404\n",
       "13           85        12       2317\n",
       "14           86         9       2309\n",
       "15           87        12       2328"
      ]
     },
     "execution_count": 18,
     "metadata": {},
     "output_type": "execute_result"
    }
   ],
   "source": [
    "import pandas as pd\n",
    "\n",
    "vis_df = pd.read_excel('lect02-lin-reg.xlsx', \n",
    "                       sheet_name='Viscosity', header=0) #y=ความหนึด x1=อุณหภูมิ x2=สาร\n",
    "\n",
    "vis_df"
   ]
  },
  {
   "cell_type": "code",
   "execution_count": 19,
   "metadata": {
    "scrolled": true
   },
   "outputs": [],
   "source": [
    "import statsmodels.api as sm\n",
    "\n",
    "Y = vis_df.Viscosity\n",
    "X = vis_df.drop('Viscosity', axis=1)\n",
    "Xreg = sm.add_constant(X) #add column intercep\n",
    "\n"
   ]
  },
  {
   "cell_type": "code",
   "execution_count": 20,
   "metadata": {},
   "outputs": [
    {
     "data": {
      "text/plain": [
       "const          1566.077771\n",
       "Temperature       7.621290\n",
       "Catalyst          8.584846\n",
       "dtype: float64"
      ]
     },
     "execution_count": 20,
     "metadata": {},
     "output_type": "execute_result"
    }
   ],
   "source": [
    "# Fit by using API\n",
    "vis_lm = sm.OLS(Y, Xreg).fit()\n",
    "\n",
    "vis_lm.params #linear model\n",
    "#Bhad0,Bhad1,Bhad2"
   ]
  },
  {
   "cell_type": "code",
   "execution_count": 21,
   "metadata": {},
   "outputs": [
    {
     "data": {
      "text/plain": [
       "Intercept      1566.077771\n",
       "Temperature       7.621290\n",
       "Catalyst          8.584846\n",
       "dtype: float64"
      ]
     },
     "execution_count": 21,
     "metadata": {},
     "output_type": "execute_result"
    }
   ],
   "source": [
    "# Fit by using formulaใช้สูตร\n",
    "from statsmodels.formula.api import ols\n",
    "\n",
    "formula = 'Viscosity ~ Temperature + Catalyst' #จากสูตร y=B0+B1x1+B2x2+...+Bm มี x 2 ตัว fit intercept\n",
    "#formula = 'Viscosity ~ Temperature + Catalyst - 1' ไม่เอา B0\n",
    "\n",
    "vis_lm = ols(formula, data=vis_df).fit()\n",
    "\n",
    "vis_lm.params"
   ]
  },
  {
   "cell_type": "code",
   "execution_count": 10,
   "metadata": {},
   "outputs": [
    {
     "data": {
      "text/plain": [
       "array([2389.26425611])"
      ]
     },
     "execution_count": 10,
     "metadata": {},
     "output_type": "execute_result"
    }
   ],
   "source": [
    "# Making prediction\n",
    "\n",
    "Xk = X.iloc[[5],:]  # Get row 5 (as dataframe) 0 1 2 3 4 5 = แถวที่ 6\n",
    "Xreg_k = sm.add_constant(Xk, has_constant='add') \n",
    "\n",
    "import numpy as np\n",
    "Yk = np.array(vis_lm.predict(exog=Xreg_k)) #exogeneous variables\n",
    "Yk"
   ]
  },
  {
   "cell_type": "code",
   "execution_count": 11,
   "metadata": {},
   "outputs": [
    {
     "data": {
      "text/html": [
       "<div>\n",
       "<style scoped>\n",
       "    .dataframe tbody tr th:only-of-type {\n",
       "        vertical-align: middle;\n",
       "    }\n",
       "\n",
       "    .dataframe tbody tr th {\n",
       "        vertical-align: top;\n",
       "    }\n",
       "\n",
       "    .dataframe thead th {\n",
       "        text-align: right;\n",
       "    }\n",
       "</style>\n",
       "<table border=\"1\" class=\"dataframe\">\n",
       "  <thead>\n",
       "    <tr style=\"text-align: right;\">\n",
       "      <th></th>\n",
       "      <th>const</th>\n",
       "      <th>Temperature</th>\n",
       "      <th>Catalyst</th>\n",
       "    </tr>\n",
       "  </thead>\n",
       "  <tbody>\n",
       "    <tr>\n",
       "      <th>5</th>\n",
       "      <td>1.0</td>\n",
       "      <td>99</td>\n",
       "      <td>8</td>\n",
       "    </tr>\n",
       "  </tbody>\n",
       "</table>\n",
       "</div>"
      ],
      "text/plain": [
       "   const  Temperature  Catalyst\n",
       "5    1.0           99         8"
      ]
     },
     "execution_count": 11,
     "metadata": {},
     "output_type": "execute_result"
    }
   ],
   "source": [
    "Xreg_k #บอกค่าของเเถวนั้น"
   ]
  },
  {
   "cell_type": "code",
   "execution_count": 8,
   "metadata": {},
   "outputs": [
    {
     "name": "stdout",
     "output_type": "stream",
     "text": [
      "Sum of Squared Errors (SSE): 3478.85\n",
      "Sum of Squared Regression (SSR): 44157.09\n",
      "Sum of Squared Total (SST): 47635.94\n",
      "Residual df (n-p): 13\n",
      "Mean Squared errors (MSE): 267.60\n",
      "Standard Errors (Se): 16.36\n"
     ]
    }
   ],
   "source": [
    "print(\"Sum of Squared Errors (SSE): {:.2f}\".format(vis_lm.ssr)) # Sum of Squares Residuals\n",
    "print(\"Sum of Squared Regression (SSR): {:.2f}\".format(vis_lm.ess)) # Explained sum of squares\n",
    "print(\"Sum of Squared Total (SST): {:.2f}\".format(vis_lm.centered_tss)) # Total sum of squares\n",
    "print(\"Residual df (n-p): {:.0f}\".format(vis_lm.df_resid))#ข้อมูล16เเถว 16-3 \n",
    "print(\"Mean Squared errors (MSE): {:.2f}\".format(vis_lm.mse_resid))\n",
    "print(\"Standard Errors (Se): {:.2f}\".format(np.sqrt(vis_lm.mse_resid)))"
   ]
  },
  {
   "cell_type": "code",
   "execution_count": 9,
   "metadata": {
    "scrolled": true
   },
   "outputs": [
    {
     "name": "stdout",
     "output_type": "stream",
     "text": [
      "R-squared: 0.927\n",
      "Adjusted R-squared: 0.916\n"
     ]
    }
   ],
   "source": [
    "print(\"R-squared: {:.3f}\".format(vis_lm.rsquared))\n",
    "print(\"Adjusted R-squared: {:.3f}\".format(vis_lm.rsquared_adj))"
   ]
  },
  {
   "cell_type": "markdown",
   "metadata": {},
   "source": [
    "# F test"
   ]
  },
  {
   "cell_type": "code",
   "execution_count": 44,
   "metadata": {},
   "outputs": [
    {
     "data": {
      "text/html": [
       "<div>\n",
       "<style scoped>\n",
       "    .dataframe tbody tr th:only-of-type {\n",
       "        vertical-align: middle;\n",
       "    }\n",
       "\n",
       "    .dataframe tbody tr th {\n",
       "        vertical-align: top;\n",
       "    }\n",
       "\n",
       "    .dataframe thead th {\n",
       "        text-align: right;\n",
       "    }\n",
       "</style>\n",
       "<table border=\"1\" class=\"dataframe\">\n",
       "  <thead>\n",
       "    <tr style=\"text-align: right;\">\n",
       "      <th></th>\n",
       "      <th>Miles</th>\n",
       "      <th>Car</th>\n",
       "      <th>W</th>\n",
       "      <th>Day</th>\n",
       "    </tr>\n",
       "  </thead>\n",
       "  <tbody>\n",
       "    <tr>\n",
       "      <th>0</th>\n",
       "      <td>17.9</td>\n",
       "      <td>1</td>\n",
       "      <td>1.35</td>\n",
       "      <td>90</td>\n",
       "    </tr>\n",
       "    <tr>\n",
       "      <th>1</th>\n",
       "      <td>16.5</td>\n",
       "      <td>2</td>\n",
       "      <td>1.90</td>\n",
       "      <td>30</td>\n",
       "    </tr>\n",
       "    <tr>\n",
       "      <th>2</th>\n",
       "      <td>16.4</td>\n",
       "      <td>3</td>\n",
       "      <td>1.70</td>\n",
       "      <td>80</td>\n",
       "    </tr>\n",
       "    <tr>\n",
       "      <th>3</th>\n",
       "      <td>16.8</td>\n",
       "      <td>4</td>\n",
       "      <td>1.80</td>\n",
       "      <td>40</td>\n",
       "    </tr>\n",
       "    <tr>\n",
       "      <th>4</th>\n",
       "      <td>18.8</td>\n",
       "      <td>5</td>\n",
       "      <td>1.30</td>\n",
       "      <td>35</td>\n",
       "    </tr>\n",
       "    <tr>\n",
       "      <th>5</th>\n",
       "      <td>15.5</td>\n",
       "      <td>6</td>\n",
       "      <td>2.05</td>\n",
       "      <td>45</td>\n",
       "    </tr>\n",
       "    <tr>\n",
       "      <th>6</th>\n",
       "      <td>17.5</td>\n",
       "      <td>7</td>\n",
       "      <td>1.60</td>\n",
       "      <td>50</td>\n",
       "    </tr>\n",
       "    <tr>\n",
       "      <th>7</th>\n",
       "      <td>16.4</td>\n",
       "      <td>8</td>\n",
       "      <td>1.80</td>\n",
       "      <td>60</td>\n",
       "    </tr>\n",
       "    <tr>\n",
       "      <th>8</th>\n",
       "      <td>15.9</td>\n",
       "      <td>9</td>\n",
       "      <td>1.85</td>\n",
       "      <td>65</td>\n",
       "    </tr>\n",
       "    <tr>\n",
       "      <th>9</th>\n",
       "      <td>18.3</td>\n",
       "      <td>10</td>\n",
       "      <td>1.40</td>\n",
       "      <td>30</td>\n",
       "    </tr>\n",
       "  </tbody>\n",
       "</table>\n",
       "</div>"
      ],
      "text/plain": [
       "   Miles Car     W  Day\n",
       "0   17.9   1  1.35   90\n",
       "1   16.5   2  1.90   30\n",
       "2   16.4   3  1.70   80\n",
       "3   16.8   4  1.80   40\n",
       "4   18.8   5  1.30   35\n",
       "5   15.5   6  2.05   45\n",
       "6   17.5   7  1.60   50\n",
       "7   16.4   8  1.80   60\n",
       "8   15.9   9  1.85   65\n",
       "9   18.3  10  1.40   30"
      ]
     },
     "execution_count": 44,
     "metadata": {},
     "output_type": "execute_result"
    }
   ],
   "source": [
    "k=pd.DataFrame({'Miles': [17.9,16.5,16.4,16.8,18.8,15.5,17.5,16.4,15.9,18.3],\n",
    "                         'Car': ['1','2','3','4','5','6','7','8','9','10'],\n",
    "                         'W': [1.35,1.9,1.7,1.8,1.3,2.05,1.6,1.8,1.85,1.4], \n",
    "                         'Day': [90,30,80,40,35,45,50,60,65,30]})\n",
    "k"
   ]
  },
  {
   "cell_type": "code",
   "execution_count": 49,
   "metadata": {},
   "outputs": [
    {
     "data": {
      "text/plain": [
       "W      8.176374\n",
       "Day    0.055179\n",
       "dtype: float64"
      ]
     },
     "execution_count": 49,
     "metadata": {},
     "output_type": "execute_result"
    }
   ],
   "source": [
    "from statsmodels.formula.api import ols\n",
    "\n",
    "formula2 = 'Miles ~ W + Day-1' #จากสูตร y=B0+B1x1+B2x2+...+Bm มี x 2 ตัว fit intercept\n",
    "#formula = 'Viscosity ~ Temperature + Catalyst - 1' ไม่เอา B0\n",
    "\n",
    "vis_lm = ols(formula2, data=k).fit()\n",
    "\n",
    "vis_lm.params"
   ]
  },
  {
   "cell_type": "code",
   "execution_count": 50,
   "metadata": {
    "scrolled": true
   },
   "outputs": [
    {
     "data": {
      "text/html": [
       "<table class=\"simpletable\">\n",
       "<tr>\n",
       "          <td>Model:</td>                 <td>OLS</td>       <td>Adj. R-squared (uncentered):</td>   <td>0.956</td> \n",
       "</tr>\n",
       "<tr>\n",
       "    <td>Dependent Variable:</td>         <td>Miles</td>                  <td>AIC:</td>              <td>55.5076</td>\n",
       "</tr>\n",
       "<tr>\n",
       "           <td>Date:</td>          <td>2021-09-30 10:44</td>             <td>BIC:</td>              <td>56.1127</td>\n",
       "</tr>\n",
       "<tr>\n",
       "     <td>No. Observations:</td>           <td>10</td>               <td>Log-Likelihood:</td>        <td>-25.754</td>\n",
       "</tr>\n",
       "<tr>\n",
       "         <td>Df Model:</td>                <td>2</td>                <td>F-statistic:</td>           <td>110.8</td> \n",
       "</tr>\n",
       "<tr>\n",
       "       <td>Df Residuals:</td>              <td>8</td>             <td>Prob (F-statistic):</td>     <td>1.47e-06</td>\n",
       "</tr>\n",
       "<tr>\n",
       "  <td>R-squared (uncentered):</td>       <td>0.965</td>                 <td>Scale:</td>             <td>12.629</td> \n",
       "</tr>\n",
       "</table>\n",
       "<table class=\"simpletable\">\n",
       "<tr>\n",
       "   <td></td>    <th>Coef.</th> <th>Std.Err.</th>    <th>t</th>    <th>P>|t|</th> <th>[0.025</th>  <th>0.975]</th> \n",
       "</tr>\n",
       "<tr>\n",
       "  <th>W</th>   <td>8.1764</td>  <td>1.7058</td>  <td>4.7933</td> <td>0.0014</td> <td>4.2428</td>  <td>12.1099</td>\n",
       "</tr>\n",
       "<tr>\n",
       "  <th>Day</th> <td>0.0552</td>  <td>0.0515</td>  <td>1.0724</td> <td>0.3148</td> <td>-0.0635</td> <td>0.1738</td> \n",
       "</tr>\n",
       "</table>\n",
       "<table class=\"simpletable\">\n",
       "<tr>\n",
       "     <td>Omnibus:</td>    <td>1.156</td>  <td>Durbin-Watson:</td>   <td>2.545</td>\n",
       "</tr>\n",
       "<tr>\n",
       "  <td>Prob(Omnibus):</td> <td>0.561</td> <td>Jarque-Bera (JB):</td> <td>0.875</td>\n",
       "</tr>\n",
       "<tr>\n",
       "       <td>Skew:</td>     <td>0.594</td>     <td>Prob(JB):</td>     <td>0.646</td>\n",
       "</tr>\n",
       "<tr>\n",
       "     <td>Kurtosis:</td>   <td>2.170</td>  <td>Condition No.:</td>    <td>85</td>  \n",
       "</tr>\n",
       "</table>"
      ],
      "text/plain": [
       "<class 'statsmodels.iolib.summary2.Summary'>\n",
       "\"\"\"\n",
       "                       Results: Ordinary least squares\n",
       "==============================================================================\n",
       "Model:                  OLS              Adj. R-squared (uncentered): 0.956   \n",
       "Dependent Variable:     Miles            AIC:                         55.5076 \n",
       "Date:                   2021-09-30 10:44 BIC:                         56.1127 \n",
       "No. Observations:       10               Log-Likelihood:              -25.754 \n",
       "Df Model:               2                F-statistic:                 110.8   \n",
       "Df Residuals:           8                Prob (F-statistic):          1.47e-06\n",
       "R-squared (uncentered): 0.965            Scale:                       12.629  \n",
       "-----------------------------------------------------------------------------------\n",
       "             Coef.       Std.Err.        t         P>|t|        [0.025       0.975]\n",
       "-----------------------------------------------------------------------------------\n",
       "W            8.1764        1.7058      4.7933      0.0014       4.2428      12.1099\n",
       "Day          0.0552        0.0515      1.0724      0.3148      -0.0635       0.1738\n",
       "------------------------------------------------------------------------------\n",
       "Omnibus:                   1.156            Durbin-Watson:               2.545\n",
       "Prob(Omnibus):             0.561            Jarque-Bera (JB):            0.875\n",
       "Skew:                      0.594            Prob(JB):                    0.646\n",
       "Kurtosis:                  2.170            Condition No.:               85   \n",
       "==============================================================================\n",
       "\n",
       "\"\"\""
      ]
     },
     "execution_count": 50,
     "metadata": {},
     "output_type": "execute_result"
    }
   ],
   "source": [
    "vis_lm.summary2()"
   ]
  },
  {
   "cell_type": "code",
   "execution_count": 52,
   "metadata": {},
   "outputs": [
    {
     "ename": "FileNotFoundError",
     "evalue": "[Errno 2] No such file or directory: 'midterm-exam-data.xlsx'",
     "output_type": "error",
     "traceback": [
      "\u001b[1;31m---------------------------------------------------------------------------\u001b[0m",
      "\u001b[1;31mFileNotFoundError\u001b[0m                         Traceback (most recent call last)",
      "\u001b[1;32m<ipython-input-52-2a00e65ce144>\u001b[0m in \u001b[0;36m<module>\u001b[1;34m\u001b[0m\n\u001b[0;32m      1\u001b[0m \u001b[1;32mimport\u001b[0m \u001b[0mpandas\u001b[0m \u001b[1;32mas\u001b[0m \u001b[0mpd\u001b[0m\u001b[1;33m\u001b[0m\u001b[1;33m\u001b[0m\u001b[0m\n\u001b[0;32m      2\u001b[0m \u001b[1;33m\u001b[0m\u001b[0m\n\u001b[1;32m----> 3\u001b[1;33m \u001b[0meye\u001b[0m \u001b[1;33m=\u001b[0m \u001b[0mpd\u001b[0m\u001b[1;33m.\u001b[0m\u001b[0mread_excel\u001b[0m\u001b[1;33m(\u001b[0m\u001b[1;34m'midterm-exam-data.xlsx'\u001b[0m\u001b[1;33m,\u001b[0m\u001b[0msheet_name\u001b[0m\u001b[1;33m=\u001b[0m\u001b[1;34m'EyeFocus'\u001b[0m\u001b[1;33m,\u001b[0m \u001b[0mheader\u001b[0m\u001b[1;33m=\u001b[0m\u001b[1;36m0\u001b[0m\u001b[1;33m)\u001b[0m \u001b[1;31m#y=ความหนึด x1=อุณหภูมิ x2=สาร\u001b[0m\u001b[1;33m\u001b[0m\u001b[1;33m\u001b[0m\u001b[0m\n\u001b[0m\u001b[0;32m      4\u001b[0m \u001b[1;33m\u001b[0m\u001b[0m\n\u001b[0;32m      5\u001b[0m \u001b[0meye\u001b[0m\u001b[1;33m\u001b[0m\u001b[1;33m\u001b[0m\u001b[0m\n",
      "\u001b[1;32m~\\anaconda3\\lib\\site-packages\\pandas\\util\\_decorators.py\u001b[0m in \u001b[0;36mwrapper\u001b[1;34m(*args, **kwargs)\u001b[0m\n\u001b[0;32m    297\u001b[0m                 )\n\u001b[0;32m    298\u001b[0m                 \u001b[0mwarnings\u001b[0m\u001b[1;33m.\u001b[0m\u001b[0mwarn\u001b[0m\u001b[1;33m(\u001b[0m\u001b[0mmsg\u001b[0m\u001b[1;33m,\u001b[0m \u001b[0mFutureWarning\u001b[0m\u001b[1;33m,\u001b[0m \u001b[0mstacklevel\u001b[0m\u001b[1;33m=\u001b[0m\u001b[0mstacklevel\u001b[0m\u001b[1;33m)\u001b[0m\u001b[1;33m\u001b[0m\u001b[1;33m\u001b[0m\u001b[0m\n\u001b[1;32m--> 299\u001b[1;33m             \u001b[1;32mreturn\u001b[0m \u001b[0mfunc\u001b[0m\u001b[1;33m(\u001b[0m\u001b[1;33m*\u001b[0m\u001b[0margs\u001b[0m\u001b[1;33m,\u001b[0m \u001b[1;33m**\u001b[0m\u001b[0mkwargs\u001b[0m\u001b[1;33m)\u001b[0m\u001b[1;33m\u001b[0m\u001b[1;33m\u001b[0m\u001b[0m\n\u001b[0m\u001b[0;32m    300\u001b[0m \u001b[1;33m\u001b[0m\u001b[0m\n\u001b[0;32m    301\u001b[0m         \u001b[1;32mreturn\u001b[0m \u001b[0mwrapper\u001b[0m\u001b[1;33m\u001b[0m\u001b[1;33m\u001b[0m\u001b[0m\n",
      "\u001b[1;32m~\\anaconda3\\lib\\site-packages\\pandas\\io\\excel\\_base.py\u001b[0m in \u001b[0;36mread_excel\u001b[1;34m(io, sheet_name, header, names, index_col, usecols, squeeze, dtype, engine, converters, true_values, false_values, skiprows, nrows, na_values, keep_default_na, na_filter, verbose, parse_dates, date_parser, thousands, comment, skipfooter, convert_float, mangle_dupe_cols, storage_options)\u001b[0m\n\u001b[0;32m    334\u001b[0m     \u001b[1;32mif\u001b[0m \u001b[1;32mnot\u001b[0m \u001b[0misinstance\u001b[0m\u001b[1;33m(\u001b[0m\u001b[0mio\u001b[0m\u001b[1;33m,\u001b[0m \u001b[0mExcelFile\u001b[0m\u001b[1;33m)\u001b[0m\u001b[1;33m:\u001b[0m\u001b[1;33m\u001b[0m\u001b[1;33m\u001b[0m\u001b[0m\n\u001b[0;32m    335\u001b[0m         \u001b[0mshould_close\u001b[0m \u001b[1;33m=\u001b[0m \u001b[1;32mTrue\u001b[0m\u001b[1;33m\u001b[0m\u001b[1;33m\u001b[0m\u001b[0m\n\u001b[1;32m--> 336\u001b[1;33m         \u001b[0mio\u001b[0m \u001b[1;33m=\u001b[0m \u001b[0mExcelFile\u001b[0m\u001b[1;33m(\u001b[0m\u001b[0mio\u001b[0m\u001b[1;33m,\u001b[0m \u001b[0mstorage_options\u001b[0m\u001b[1;33m=\u001b[0m\u001b[0mstorage_options\u001b[0m\u001b[1;33m,\u001b[0m \u001b[0mengine\u001b[0m\u001b[1;33m=\u001b[0m\u001b[0mengine\u001b[0m\u001b[1;33m)\u001b[0m\u001b[1;33m\u001b[0m\u001b[1;33m\u001b[0m\u001b[0m\n\u001b[0m\u001b[0;32m    337\u001b[0m     \u001b[1;32melif\u001b[0m \u001b[0mengine\u001b[0m \u001b[1;32mand\u001b[0m \u001b[0mengine\u001b[0m \u001b[1;33m!=\u001b[0m \u001b[0mio\u001b[0m\u001b[1;33m.\u001b[0m\u001b[0mengine\u001b[0m\u001b[1;33m:\u001b[0m\u001b[1;33m\u001b[0m\u001b[1;33m\u001b[0m\u001b[0m\n\u001b[0;32m    338\u001b[0m         raise ValueError(\n",
      "\u001b[1;32m~\\anaconda3\\lib\\site-packages\\pandas\\io\\excel\\_base.py\u001b[0m in \u001b[0;36m__init__\u001b[1;34m(self, path_or_buffer, engine, storage_options)\u001b[0m\n\u001b[0;32m   1069\u001b[0m                 \u001b[0mext\u001b[0m \u001b[1;33m=\u001b[0m \u001b[1;34m\"xls\"\u001b[0m\u001b[1;33m\u001b[0m\u001b[1;33m\u001b[0m\u001b[0m\n\u001b[0;32m   1070\u001b[0m             \u001b[1;32melse\u001b[0m\u001b[1;33m:\u001b[0m\u001b[1;33m\u001b[0m\u001b[1;33m\u001b[0m\u001b[0m\n\u001b[1;32m-> 1071\u001b[1;33m                 ext = inspect_excel_format(\n\u001b[0m\u001b[0;32m   1072\u001b[0m                     \u001b[0mcontent\u001b[0m\u001b[1;33m=\u001b[0m\u001b[0mpath_or_buffer\u001b[0m\u001b[1;33m,\u001b[0m \u001b[0mstorage_options\u001b[0m\u001b[1;33m=\u001b[0m\u001b[0mstorage_options\u001b[0m\u001b[1;33m\u001b[0m\u001b[1;33m\u001b[0m\u001b[0m\n\u001b[0;32m   1073\u001b[0m                 )\n",
      "\u001b[1;32m~\\anaconda3\\lib\\site-packages\\pandas\\io\\excel\\_base.py\u001b[0m in \u001b[0;36minspect_excel_format\u001b[1;34m(path, content, storage_options)\u001b[0m\n\u001b[0;32m    947\u001b[0m     \u001b[1;32massert\u001b[0m \u001b[0mcontent_or_path\u001b[0m \u001b[1;32mis\u001b[0m \u001b[1;32mnot\u001b[0m \u001b[1;32mNone\u001b[0m\u001b[1;33m\u001b[0m\u001b[1;33m\u001b[0m\u001b[0m\n\u001b[0;32m    948\u001b[0m \u001b[1;33m\u001b[0m\u001b[0m\n\u001b[1;32m--> 949\u001b[1;33m     with get_handle(\n\u001b[0m\u001b[0;32m    950\u001b[0m         \u001b[0mcontent_or_path\u001b[0m\u001b[1;33m,\u001b[0m \u001b[1;34m\"rb\"\u001b[0m\u001b[1;33m,\u001b[0m \u001b[0mstorage_options\u001b[0m\u001b[1;33m=\u001b[0m\u001b[0mstorage_options\u001b[0m\u001b[1;33m,\u001b[0m \u001b[0mis_text\u001b[0m\u001b[1;33m=\u001b[0m\u001b[1;32mFalse\u001b[0m\u001b[1;33m\u001b[0m\u001b[1;33m\u001b[0m\u001b[0m\n\u001b[0;32m    951\u001b[0m     ) as handle:\n",
      "\u001b[1;32m~\\anaconda3\\lib\\site-packages\\pandas\\io\\common.py\u001b[0m in \u001b[0;36mget_handle\u001b[1;34m(path_or_buf, mode, encoding, compression, memory_map, is_text, errors, storage_options)\u001b[0m\n\u001b[0;32m    649\u001b[0m         \u001b[1;32melse\u001b[0m\u001b[1;33m:\u001b[0m\u001b[1;33m\u001b[0m\u001b[1;33m\u001b[0m\u001b[0m\n\u001b[0;32m    650\u001b[0m             \u001b[1;31m# Binary mode\u001b[0m\u001b[1;33m\u001b[0m\u001b[1;33m\u001b[0m\u001b[1;33m\u001b[0m\u001b[0m\n\u001b[1;32m--> 651\u001b[1;33m             \u001b[0mhandle\u001b[0m \u001b[1;33m=\u001b[0m \u001b[0mopen\u001b[0m\u001b[1;33m(\u001b[0m\u001b[0mhandle\u001b[0m\u001b[1;33m,\u001b[0m \u001b[0mioargs\u001b[0m\u001b[1;33m.\u001b[0m\u001b[0mmode\u001b[0m\u001b[1;33m)\u001b[0m\u001b[1;33m\u001b[0m\u001b[1;33m\u001b[0m\u001b[0m\n\u001b[0m\u001b[0;32m    652\u001b[0m         \u001b[0mhandles\u001b[0m\u001b[1;33m.\u001b[0m\u001b[0mappend\u001b[0m\u001b[1;33m(\u001b[0m\u001b[0mhandle\u001b[0m\u001b[1;33m)\u001b[0m\u001b[1;33m\u001b[0m\u001b[1;33m\u001b[0m\u001b[0m\n\u001b[0;32m    653\u001b[0m \u001b[1;33m\u001b[0m\u001b[0m\n",
      "\u001b[1;31mFileNotFoundError\u001b[0m: [Errno 2] No such file or directory: 'midterm-exam-data.xlsx'"
     ]
    }
   ],
   "source": [
    "import pandas as pd\n",
    "\n",
    "eye = pd.read_excel('midterm-exam-data.xlsx',sheet_name='EyeFocus', header=0) #y=ความหนึด x1=อุณหภูมิ x2=สาร\n",
    "\n",
    "eye"
   ]
  },
  {
   "cell_type": "markdown",
   "metadata": {},
   "source": [
    "## Your Turn -- Activity I: Murder rate model\n"
   ]
  },
  {
   "cell_type": "code",
   "execution_count": 11,
   "metadata": {},
   "outputs": [
    {
     "data": {
      "text/html": [
       "<div>\n",
       "<style scoped>\n",
       "    .dataframe tbody tr th:only-of-type {\n",
       "        vertical-align: middle;\n",
       "    }\n",
       "\n",
       "    .dataframe tbody tr th {\n",
       "        vertical-align: top;\n",
       "    }\n",
       "\n",
       "    .dataframe thead th {\n",
       "        text-align: right;\n",
       "    }\n",
       "</style>\n",
       "<table border=\"1\" class=\"dataframe\">\n",
       "  <thead>\n",
       "    <tr style=\"text-align: right;\">\n",
       "      <th></th>\n",
       "      <th>Murder</th>\n",
       "      <th>Population</th>\n",
       "      <th>Illiteracy</th>\n",
       "      <th>Income</th>\n",
       "      <th>Frost</th>\n",
       "    </tr>\n",
       "  </thead>\n",
       "  <tbody>\n",
       "    <tr>\n",
       "      <th>count</th>\n",
       "      <td>50.00000</td>\n",
       "      <td>50.000000</td>\n",
       "      <td>50.000000</td>\n",
       "      <td>50.000000</td>\n",
       "      <td>50.000000</td>\n",
       "    </tr>\n",
       "    <tr>\n",
       "      <th>mean</th>\n",
       "      <td>7.37800</td>\n",
       "      <td>4246.420000</td>\n",
       "      <td>1.170000</td>\n",
       "      <td>4435.800000</td>\n",
       "      <td>104.460000</td>\n",
       "    </tr>\n",
       "    <tr>\n",
       "      <th>std</th>\n",
       "      <td>3.69154</td>\n",
       "      <td>4464.491433</td>\n",
       "      <td>0.609533</td>\n",
       "      <td>614.469939</td>\n",
       "      <td>51.980848</td>\n",
       "    </tr>\n",
       "    <tr>\n",
       "      <th>min</th>\n",
       "      <td>1.40000</td>\n",
       "      <td>365.000000</td>\n",
       "      <td>0.500000</td>\n",
       "      <td>3098.000000</td>\n",
       "      <td>0.000000</td>\n",
       "    </tr>\n",
       "    <tr>\n",
       "      <th>25%</th>\n",
       "      <td>4.35000</td>\n",
       "      <td>1079.500000</td>\n",
       "      <td>0.625000</td>\n",
       "      <td>3992.750000</td>\n",
       "      <td>66.250000</td>\n",
       "    </tr>\n",
       "    <tr>\n",
       "      <th>50%</th>\n",
       "      <td>6.85000</td>\n",
       "      <td>2838.500000</td>\n",
       "      <td>0.950000</td>\n",
       "      <td>4519.000000</td>\n",
       "      <td>114.500000</td>\n",
       "    </tr>\n",
       "    <tr>\n",
       "      <th>75%</th>\n",
       "      <td>10.67500</td>\n",
       "      <td>4968.500000</td>\n",
       "      <td>1.575000</td>\n",
       "      <td>4813.500000</td>\n",
       "      <td>139.750000</td>\n",
       "    </tr>\n",
       "    <tr>\n",
       "      <th>max</th>\n",
       "      <td>15.10000</td>\n",
       "      <td>21198.000000</td>\n",
       "      <td>2.800000</td>\n",
       "      <td>6315.000000</td>\n",
       "      <td>188.000000</td>\n",
       "    </tr>\n",
       "  </tbody>\n",
       "</table>\n",
       "</div>"
      ],
      "text/plain": [
       "         Murder    Population  Illiteracy       Income       Frost\n",
       "count  50.00000     50.000000   50.000000    50.000000   50.000000\n",
       "mean    7.37800   4246.420000    1.170000  4435.800000  104.460000\n",
       "std     3.69154   4464.491433    0.609533   614.469939   51.980848\n",
       "min     1.40000    365.000000    0.500000  3098.000000    0.000000\n",
       "25%     4.35000   1079.500000    0.625000  3992.750000   66.250000\n",
       "50%     6.85000   2838.500000    0.950000  4519.000000  114.500000\n",
       "75%    10.67500   4968.500000    1.575000  4813.500000  139.750000\n",
       "max    15.10000  21198.000000    2.800000  6315.000000  188.000000"
      ]
     },
     "execution_count": 11,
     "metadata": {},
     "output_type": "execute_result"
    }
   ],
   "source": [
    "murder_data = pd.read_excel('lect02-lin-reg.xlsx', sheet_name='State murder')\n",
    "murder_data.describe(include='all')"
   ]
  },
  {
   "cell_type": "code",
   "execution_count": 12,
   "metadata": {},
   "outputs": [
    {
     "data": {
      "text/plain": [
       "array([5.18516634])"
      ]
     },
     "execution_count": 12,
     "metadata": {},
     "output_type": "execute_result"
    }
   ],
   "source": [
    "Y = murder_data.Murder\n",
    "X = murder_data.drop('Murder', axis=1)\n",
    "Xreg = sm.add_constant(X)\n",
    "\n",
    "murder_lm = sm.OLS(Y, Xreg).fit()\n",
    "\n",
    "formula = 'Murder ~ Population + Illiteracy + Income + Frost -1'\n",
    "\n",
    "murder_lm = ols(formula, data=murder_data).fit()\n",
    "\n",
    "Xk = X.iloc[[5],:]  # Get row 5 (as dataframe) \n",
    "Xreg_k = sm.add_constant(Xk, has_constant='add') \n",
    "\n",
    "Yk = np.array(murder_lm.predict(exog=Xreg_k))\n",
    "Yk"
   ]
  },
  {
   "cell_type": "code",
   "execution_count": 13,
   "metadata": {},
   "outputs": [
    {
     "name": "stdout",
     "output_type": "stream",
     "text": [
      "Sum of Squared Errors (SSE): 289.82\n",
      "Sum of Squared Regression (SSR): 3099.67\n",
      "Sum of Squared Total (SST): 667.75\n",
      "Residual df (n-p): 46\n",
      "Mean Squared errors (MSE): 6.30\n",
      "Standard Errors (Se): 2.51\n"
     ]
    }
   ],
   "source": [
    "print(\"Sum of Squared Errors (SSE): {:.2f}\".format(murder_lm.ssr)) # Sum of Squares Residuals\n",
    "print(\"Sum of Squared Regression (SSR): {:.2f}\".format(murder_lm.ess)) # Explained sum of squares\n",
    "print(\"Sum of Squared Total (SST): {:.2f}\".format(murder_lm.centered_tss)) # Total sum of squares\n",
    "print(\"Residual df (n-p): {:.0f}\".format(murder_lm.df_resid))\n",
    "print(\"Mean Squared errors (MSE): {:.2f}\".format(murder_lm.mse_resid))\n",
    "print(\"Standard Errors (Se): {:.2f}\".format(np.sqrt(murder_lm.mse_resid)))"
   ]
  },
  {
   "cell_type": "code",
   "execution_count": 14,
   "metadata": {},
   "outputs": [
    {
     "name": "stdout",
     "output_type": "stream",
     "text": [
      "R-squared: 0.914\n",
      "Adjusted R-squared: 0.907\n"
     ]
    }
   ],
   "source": [
    "print(\"R-squared: {:.3f}\".format(murder_lm.rsquared))\n",
    "print(\"Adjusted R-squared: {:.3f}\".format(murder_lm.rsquared_adj))"
   ]
  },
  {
   "cell_type": "code",
   "execution_count": 15,
   "metadata": {},
   "outputs": [
    {
     "data": {
      "text/html": [
       "<table class=\"simpletable\">\n",
       "<tr>\n",
       "          <td>Model:</td>                 <td>OLS</td>       <td>Adj. R-squared (uncentered):</td>   <td>0.907</td> \n",
       "</tr>\n",
       "<tr>\n",
       "    <td>Dependent Variable:</td>        <td>Murder</td>                  <td>AIC:</td>             <td>237.7561</td>\n",
       "</tr>\n",
       "<tr>\n",
       "           <td>Date:</td>          <td>2021-09-02 09:36</td>             <td>BIC:</td>             <td>245.4042</td>\n",
       "</tr>\n",
       "<tr>\n",
       "     <td>No. Observations:</td>           <td>50</td>               <td>Log-Likelihood:</td>        <td>-114.88</td>\n",
       "</tr>\n",
       "<tr>\n",
       "         <td>Df Model:</td>                <td>4</td>                <td>F-statistic:</td>           <td>123.0</td> \n",
       "</tr>\n",
       "<tr>\n",
       "       <td>Df Residuals:</td>             <td>46</td>             <td>Prob (F-statistic):</td>     <td>6.01e-24</td>\n",
       "</tr>\n",
       "<tr>\n",
       "  <td>R-squared (uncentered):</td>       <td>0.914</td>                 <td>Scale:</td>             <td>6.3005</td> \n",
       "</tr>\n",
       "</table>\n",
       "<table class=\"simpletable\">\n",
       "<tr>\n",
       "       <td></td>       <th>Coef.</th> <th>Std.Err.</th>    <th>t</th>    <th>P>|t|</th> <th>[0.025</th>  <th>0.975]</th>\n",
       "</tr>\n",
       "<tr>\n",
       "  <th>Population</th> <td>0.0002</td>  <td>0.0001</td>  <td>2.4938</td> <td>0.0163</td> <td>0.0000</td>  <td>0.0004</td>\n",
       "</tr>\n",
       "<tr>\n",
       "  <th>Illiteracy</th> <td>4.3463</td>  <td>0.5928</td>  <td>7.3313</td> <td>0.0000</td> <td>3.1530</td>  <td>5.5397</td>\n",
       "</tr>\n",
       "<tr>\n",
       "  <th>Income</th>     <td>0.0003</td>  <td>0.0004</td>  <td>0.7150</td> <td>0.4782</td> <td>-0.0005</td> <td>0.0010</td>\n",
       "</tr>\n",
       "<tr>\n",
       "  <th>Frost</th>      <td>0.0021</td>  <td>0.0088</td>  <td>0.2393</td> <td>0.8119</td> <td>-0.0156</td> <td>0.0198</td>\n",
       "</tr>\n",
       "</table>\n",
       "<table class=\"simpletable\">\n",
       "<tr>\n",
       "     <td>Omnibus:</td>    <td>2.407</td>  <td>Durbin-Watson:</td>   <td>2.314</td>\n",
       "</tr>\n",
       "<tr>\n",
       "  <td>Prob(Omnibus):</td> <td>0.300</td> <td>Jarque-Bera (JB):</td> <td>1.482</td>\n",
       "</tr>\n",
       "<tr>\n",
       "       <td>Skew:</td>     <td>0.345</td>     <td>Prob(JB):</td>     <td>0.477</td>\n",
       "</tr>\n",
       "<tr>\n",
       "     <td>Kurtosis:</td>   <td>3.485</td>  <td>Condition No.:</td>   <td>11821</td>\n",
       "</tr>\n",
       "</table>"
      ],
      "text/plain": [
       "<class 'statsmodels.iolib.summary2.Summary'>\n",
       "\"\"\"\n",
       "                       Results: Ordinary least squares\n",
       "==============================================================================\n",
       "Model:                  OLS              Adj. R-squared (uncentered): 0.907   \n",
       "Dependent Variable:     Murder           AIC:                         237.7561\n",
       "Date:                   2021-09-02 09:36 BIC:                         245.4042\n",
       "No. Observations:       50               Log-Likelihood:              -114.88 \n",
       "Df Model:               4                F-statistic:                 123.0   \n",
       "Df Residuals:           46               Prob (F-statistic):          6.01e-24\n",
       "R-squared (uncentered): 0.914            Scale:                       6.3005  \n",
       "----------------------------------------------------------------------------------\n",
       "                  Coef.      Std.Err.       t        P>|t|       [0.025     0.975]\n",
       "----------------------------------------------------------------------------------\n",
       "Population        0.0002       0.0001     2.4938     0.0163      0.0000     0.0004\n",
       "Illiteracy        4.3463       0.5928     7.3313     0.0000      3.1530     5.5397\n",
       "Income            0.0003       0.0004     0.7150     0.4782     -0.0005     0.0010\n",
       "Frost             0.0021       0.0088     0.2393     0.8119     -0.0156     0.0198\n",
       "------------------------------------------------------------------------------\n",
       "Omnibus:                   2.407            Durbin-Watson:               2.314\n",
       "Prob(Omnibus):             0.300            Jarque-Bera (JB):            1.482\n",
       "Skew:                      0.345            Prob(JB):                    0.477\n",
       "Kurtosis:                  3.485            Condition No.:               11821\n",
       "==============================================================================\n",
       "* The condition number is large (1e+04). This might indicate\n",
       "strong multicollinearity or other numerical problems.\n",
       "\"\"\""
      ]
     },
     "execution_count": 15,
     "metadata": {},
     "output_type": "execute_result"
    }
   ],
   "source": [
    "murder_lm.summary2()"
   ]
  },
  {
   "cell_type": "code",
   "execution_count": null,
   "metadata": {},
   "outputs": [],
   "source": []
  },
  {
   "cell_type": "markdown",
   "metadata": {},
   "source": [
    "## Your Turn -- Activity II: Partial F-Test"
   ]
  },
  {
   "cell_type": "code",
   "execution_count": 28,
   "metadata": {},
   "outputs": [
    {
     "data": {
      "text/html": [
       "<div>\n",
       "<style scoped>\n",
       "    .dataframe tbody tr th:only-of-type {\n",
       "        vertical-align: middle;\n",
       "    }\n",
       "\n",
       "    .dataframe tbody tr th {\n",
       "        vertical-align: top;\n",
       "    }\n",
       "\n",
       "    .dataframe thead th {\n",
       "        text-align: right;\n",
       "    }\n",
       "</style>\n",
       "<table border=\"1\" class=\"dataframe\">\n",
       "  <thead>\n",
       "    <tr style=\"text-align: right;\">\n",
       "      <th></th>\n",
       "      <th>Force</th>\n",
       "      <th>Power</th>\n",
       "      <th>Temperature</th>\n",
       "      <th>Time</th>\n",
       "      <th>Strength</th>\n",
       "    </tr>\n",
       "  </thead>\n",
       "  <tbody>\n",
       "    <tr>\n",
       "      <th>0</th>\n",
       "      <td>30</td>\n",
       "      <td>60</td>\n",
       "      <td>175</td>\n",
       "      <td>15</td>\n",
       "      <td>26.2</td>\n",
       "    </tr>\n",
       "    <tr>\n",
       "      <th>1</th>\n",
       "      <td>40</td>\n",
       "      <td>60</td>\n",
       "      <td>175</td>\n",
       "      <td>15</td>\n",
       "      <td>26.3</td>\n",
       "    </tr>\n",
       "    <tr>\n",
       "      <th>2</th>\n",
       "      <td>30</td>\n",
       "      <td>90</td>\n",
       "      <td>175</td>\n",
       "      <td>15</td>\n",
       "      <td>39.8</td>\n",
       "    </tr>\n",
       "    <tr>\n",
       "      <th>3</th>\n",
       "      <td>40</td>\n",
       "      <td>90</td>\n",
       "      <td>175</td>\n",
       "      <td>15</td>\n",
       "      <td>39.7</td>\n",
       "    </tr>\n",
       "    <tr>\n",
       "      <th>4</th>\n",
       "      <td>30</td>\n",
       "      <td>60</td>\n",
       "      <td>225</td>\n",
       "      <td>15</td>\n",
       "      <td>38.6</td>\n",
       "    </tr>\n",
       "  </tbody>\n",
       "</table>\n",
       "</div>"
      ],
      "text/plain": [
       "   Force  Power  Temperature  Time  Strength\n",
       "0     30     60          175    15      26.2\n",
       "1     40     60          175    15      26.3\n",
       "2     30     90          175    15      39.8\n",
       "3     40     90          175    15      39.7\n",
       "4     30     60          225    15      38.6"
      ]
     },
     "execution_count": 28,
     "metadata": {},
     "output_type": "execute_result"
    }
   ],
   "source": [
    "shear_df = pd.read_excel('lect02-lin-reg.xlsx', sheet_name='Strength')\n",
    "shear_df.head()"
   ]
  },
  {
   "cell_type": "markdown",
   "metadata": {},
   "source": [
    "# Develop a linear regression model for the ball bond shear strength and the explanatory variables.\n"
   ]
  },
  {
   "cell_type": "code",
   "execution_count": 30,
   "metadata": {},
   "outputs": [
    {
     "data": {
      "text/html": [
       "<table class=\"simpletable\">\n",
       "<tr>\n",
       "        <td>Model:</td>               <td>OLS</td>         <td>Adj. R-squared:</td>     <td>0.668</td> \n",
       "</tr>\n",
       "<tr>\n",
       "  <td>Dependent Variable:</td>     <td>Strength</td>            <td>AIC:</td>         <td>188.0994</td>\n",
       "</tr>\n",
       "<tr>\n",
       "         <td>Date:</td>        <td>2021-09-29 19:14</td>        <td>BIC:</td>         <td>195.1053</td>\n",
       "</tr>\n",
       "<tr>\n",
       "   <td>No. Observations:</td>         <td>30</td>          <td>Log-Likelihood:</td>    <td>-89.050</td>\n",
       "</tr>\n",
       "<tr>\n",
       "       <td>Df Model:</td>              <td>4</td>           <td>F-statistic:</td>       <td>15.60</td> \n",
       "</tr>\n",
       "<tr>\n",
       "     <td>Df Residuals:</td>           <td>25</td>        <td>Prob (F-statistic):</td> <td>1.59e-06</td>\n",
       "</tr>\n",
       "<tr>\n",
       "      <td>R-squared:</td>            <td>0.714</td>            <td>Scale:</td>         <td>26.605</td> \n",
       "</tr>\n",
       "</table>\n",
       "<table class=\"simpletable\">\n",
       "<tr>\n",
       "       <td></td>         <th>Coef.</th>  <th>Std.Err.</th>    <th>t</th>     <th>P>|t|</th>  <th>[0.025</th>   <th>0.975]</th> \n",
       "</tr>\n",
       "<tr>\n",
       "  <th>Intercept</th>   <td>-37.4767</td>  <td>13.0996</td> <td>-2.8609</td> <td>0.0084</td> <td>-64.4559</td> <td>-10.4974</td>\n",
       "</tr>\n",
       "<tr>\n",
       "  <th>Force</th>        <td>0.2117</td>   <td>0.2106</td>  <td>1.0052</td>  <td>0.3244</td>  <td>-0.2220</td>  <td>0.6454</td> \n",
       "</tr>\n",
       "<tr>\n",
       "  <th>Power</th>        <td>0.4983</td>   <td>0.0702</td>  <td>7.0997</td>  <td>0.0000</td>  <td>0.3538</td>   <td>0.6429</td> \n",
       "</tr>\n",
       "<tr>\n",
       "  <th>Temperature</th>  <td>0.1297</td>   <td>0.0421</td>  <td>3.0789</td>  <td>0.0050</td>  <td>0.0429</td>   <td>0.2164</td> \n",
       "</tr>\n",
       "<tr>\n",
       "  <th>Time</th>         <td>0.2583</td>   <td>0.2106</td>  <td>1.2268</td>  <td>0.2313</td>  <td>-0.1754</td>  <td>0.6920</td> \n",
       "</tr>\n",
       "</table>\n",
       "<table class=\"simpletable\">\n",
       "<tr>\n",
       "     <td>Omnibus:</td>     <td>1.712</td>  <td>Durbin-Watson:</td>   <td>2.261</td>\n",
       "</tr>\n",
       "<tr>\n",
       "  <td>Prob(Omnibus):</td>  <td>0.425</td> <td>Jarque-Bera (JB):</td> <td>1.156</td>\n",
       "</tr>\n",
       "<tr>\n",
       "       <td>Skew:</td>     <td>-0.480</td>     <td>Prob(JB):</td>     <td>0.561</td>\n",
       "</tr>\n",
       "<tr>\n",
       "     <td>Kurtosis:</td>    <td>2.965</td>  <td>Condition No.:</td>   <td>3038</td> \n",
       "</tr>\n",
       "</table>"
      ],
      "text/plain": [
       "<class 'statsmodels.iolib.summary2.Summary'>\n",
       "\"\"\"\n",
       "                 Results: Ordinary least squares\n",
       "=================================================================\n",
       "Model:              OLS              Adj. R-squared:     0.668   \n",
       "Dependent Variable: Strength         AIC:                188.0994\n",
       "Date:               2021-09-29 19:14 BIC:                195.1053\n",
       "No. Observations:   30               Log-Likelihood:     -89.050 \n",
       "Df Model:           4                F-statistic:        15.60   \n",
       "Df Residuals:       25               Prob (F-statistic): 1.59e-06\n",
       "R-squared:          0.714            Scale:              26.605  \n",
       "-----------------------------------------------------------------\n",
       "                Coef.   Std.Err.    t    P>|t|   [0.025   0.975] \n",
       "-----------------------------------------------------------------\n",
       "Intercept      -37.4767  13.0996 -2.8609 0.0084 -64.4559 -10.4974\n",
       "Force            0.2117   0.2106  1.0052 0.3244  -0.2220   0.6454\n",
       "Power            0.4983   0.0702  7.0997 0.0000   0.3538   0.6429\n",
       "Temperature      0.1297   0.0421  3.0789 0.0050   0.0429   0.2164\n",
       "Time             0.2583   0.2106  1.2268 0.2313  -0.1754   0.6920\n",
       "-----------------------------------------------------------------\n",
       "Omnibus:               1.712        Durbin-Watson:          2.261\n",
       "Prob(Omnibus):         0.425        Jarque-Bera (JB):       1.156\n",
       "Skew:                  -0.480       Prob(JB):               0.561\n",
       "Kurtosis:              2.965        Condition No.:          3038 \n",
       "=================================================================\n",
       "* The condition number is large (3e+03). This might indicate\n",
       "strong multicollinearity or other numerical problems.\n",
       "\"\"\""
      ]
     },
     "execution_count": 30,
     "metadata": {},
     "output_type": "execute_result"
    }
   ],
   "source": [
    "from statsmodels.formula.api import ols\n",
    "formula = 'Strength ~ Force + Power + Temperature + Time'\n",
    "shear_lm = ols(formula, data=shear_df).fit()\n",
    "\n",
    "shear_lm.summary2()"
   ]
  },
  {
   "cell_type": "code",
   "execution_count": 48,
   "metadata": {},
   "outputs": [
    {
     "data": {
      "text/html": [
       "<table class=\"simpletable\">\n",
       "<tr>\n",
       "        <td>Model:</td>               <td>OLS</td>         <td>Adj. R-squared:</td>     <td>0.662</td> \n",
       "</tr>\n",
       "<tr>\n",
       "  <td>Dependent Variable:</td>     <td>Strength</td>            <td>AIC:</td>         <td>186.9755</td>\n",
       "</tr>\n",
       "<tr>\n",
       "         <td>Date:</td>        <td>2021-09-30 10:43</td>        <td>BIC:</td>         <td>191.1791</td>\n",
       "</tr>\n",
       "<tr>\n",
       "   <td>No. Observations:</td>         <td>30</td>          <td>Log-Likelihood:</td>    <td>-90.488</td>\n",
       "</tr>\n",
       "<tr>\n",
       "       <td>Df Model:</td>              <td>2</td>           <td>F-statistic:</td>       <td>29.38</td> \n",
       "</tr>\n",
       "<tr>\n",
       "     <td>Df Residuals:</td>           <td>27</td>        <td>Prob (F-statistic):</td> <td>1.67e-07</td>\n",
       "</tr>\n",
       "<tr>\n",
       "      <td>R-squared:</td>            <td>0.685</td>            <td>Scale:</td>         <td>27.113</td> \n",
       "</tr>\n",
       "</table>\n",
       "<table class=\"simpletable\">\n",
       "<tr>\n",
       "       <td></td>         <th>Coef.</th>  <th>Std.Err.</th>    <th>t</th>     <th>P>|t|</th>  <th>[0.025</th>  <th>0.975]</th> \n",
       "</tr>\n",
       "<tr>\n",
       "  <th>Intercept</th>   <td>-24.9017</td>  <td>10.0721</td> <td>-2.4723</td> <td>0.0200</td> <td>-45.5678</td> <td>-4.2355</td>\n",
       "</tr>\n",
       "<tr>\n",
       "  <th>Power</th>        <td>0.4983</td>   <td>0.0709</td>  <td>7.0328</td>  <td>0.0000</td>  <td>0.3529</td>  <td>0.6437</td> \n",
       "</tr>\n",
       "<tr>\n",
       "  <th>Temperature</th>  <td>0.1297</td>   <td>0.0425</td>  <td>3.0499</td>  <td>0.0051</td>  <td>0.0424</td>  <td>0.2169</td> \n",
       "</tr>\n",
       "</table>\n",
       "<table class=\"simpletable\">\n",
       "<tr>\n",
       "     <td>Omnibus:</td>     <td>0.289</td>  <td>Durbin-Watson:</td>   <td>2.351</td>\n",
       "</tr>\n",
       "<tr>\n",
       "  <td>Prob(Omnibus):</td>  <td>0.866</td> <td>Jarque-Bera (JB):</td> <td>0.086</td>\n",
       "</tr>\n",
       "<tr>\n",
       "       <td>Skew:</td>     <td>-0.127</td>     <td>Prob(JB):</td>     <td>0.958</td>\n",
       "</tr>\n",
       "<tr>\n",
       "     <td>Kurtosis:</td>    <td>2.935</td>  <td>Condition No.:</td>   <td>2275</td> \n",
       "</tr>\n",
       "</table>"
      ],
      "text/plain": [
       "<class 'statsmodels.iolib.summary2.Summary'>\n",
       "\"\"\"\n",
       "                 Results: Ordinary least squares\n",
       "=================================================================\n",
       "Model:              OLS              Adj. R-squared:     0.662   \n",
       "Dependent Variable: Strength         AIC:                186.9755\n",
       "Date:               2021-09-30 10:43 BIC:                191.1791\n",
       "No. Observations:   30               Log-Likelihood:     -90.488 \n",
       "Df Model:           2                F-statistic:        29.38   \n",
       "Df Residuals:       27               Prob (F-statistic): 1.67e-07\n",
       "R-squared:          0.685            Scale:              27.113  \n",
       "-----------------------------------------------------------------\n",
       "                 Coef.   Std.Err.    t    P>|t|   [0.025   0.975]\n",
       "-----------------------------------------------------------------\n",
       "Intercept       -24.9017  10.0721 -2.4723 0.0200 -45.5678 -4.2355\n",
       "Power             0.4983   0.0709  7.0328 0.0000   0.3529  0.6437\n",
       "Temperature       0.1297   0.0425  3.0499 0.0051   0.0424  0.2169\n",
       "-----------------------------------------------------------------\n",
       "Omnibus:               0.289        Durbin-Watson:          2.351\n",
       "Prob(Omnibus):         0.866        Jarque-Bera (JB):       0.086\n",
       "Skew:                  -0.127       Prob(JB):               0.958\n",
       "Kurtosis:              2.935        Condition No.:          2275 \n",
       "=================================================================\n",
       "* The condition number is large (2e+03). This might indicate\n",
       "strong multicollinearity or other numerical problems.\n",
       "\"\"\""
      ]
     },
     "execution_count": 48,
     "metadata": {},
     "output_type": "execute_result"
    }
   ],
   "source": [
    "formula_2 = 'Strength ~ Power + Temperature '\n",
    "shear2_lm = ols(formula_2, data=shear_df).fit()\n",
    "\n",
    "shear2_lm.summary2()"
   ]
  },
  {
   "cell_type": "code",
   "execution_count": 38,
   "metadata": {},
   "outputs": [
    {
     "data": {
      "text/plain": [
       "0.3016749301955586"
      ]
     },
     "execution_count": 38,
     "metadata": {},
     "output_type": "execute_result"
    }
   ],
   "source": [
    "from scipy import stats\n",
    "result = ((shear2_lm.ssr - shear_lm.ssr )/2)/shear_lm.mse_resid\n",
    "n,p = 30,5;stats.f.sf(result,2,n-p) #สไลด์37 H0 จริงจะกระจายเเบบF distrinuted"
   ]
  },
  {
   "cell_type": "markdown",
   "metadata": {},
   "source": [
    "ค่า p-value จาก partial F test = 0.30167493019555996 มีค่ามากกว่า 0.05 ดังนัน้\n",
    "จึง Accept H0 ก็คือตัวแปรที่เพิ่มเข้ามาไม่ช่วยการทำนาย"
   ]
  },
  {
   "cell_type": "code",
   "execution_count": null,
   "metadata": {},
   "outputs": [],
   "source": []
  }
 ],
 "metadata": {
  "hide_input": false,
  "kernelspec": {
   "display_name": "Python 3",
   "language": "python",
   "name": "python3"
  },
  "language_info": {
   "codemirror_mode": {
    "name": "ipython",
    "version": 3
   },
   "file_extension": ".py",
   "mimetype": "text/x-python",
   "name": "python",
   "nbconvert_exporter": "python",
   "pygments_lexer": "ipython3",
   "version": "3.8.8"
  },
  "latex_envs": {
   "LaTeX_envs_menu_present": true,
   "autoclose": true,
   "autocomplete": true,
   "bibliofile": "biblio.bib",
   "cite_by": "apalike",
   "current_citInitial": 1,
   "eqLabelWithNumbers": true,
   "eqNumInitial": 1,
   "hotkeys": {
    "equation": "Ctrl-E",
    "itemize": "Ctrl-I"
   },
   "labels_anchors": false,
   "latex_user_defs": false,
   "report_style_numbering": true,
   "user_envs_cfg": false
  },
  "toc": {
   "base_numbering": 1,
   "nav_menu": {},
   "number_sections": true,
   "sideBar": true,
   "skip_h1_title": true,
   "title_cell": "Table of Contents",
   "title_sidebar": "Contents",
   "toc_cell": true,
   "toc_position": {},
   "toc_section_display": true,
   "toc_window_display": true
  },
  "varInspector": {
   "cols": {
    "lenName": 16,
    "lenType": 16,
    "lenVar": 40
   },
   "kernels_config": {
    "python": {
     "delete_cmd_postfix": "",
     "delete_cmd_prefix": "del ",
     "library": "var_list.py",
     "varRefreshCmd": "print(var_dic_list())"
    },
    "r": {
     "delete_cmd_postfix": ") ",
     "delete_cmd_prefix": "rm(",
     "library": "var_list.r",
     "varRefreshCmd": "cat(var_dic_list()) "
    }
   },
   "types_to_exclude": [
    "module",
    "function",
    "builtin_function_or_method",
    "instance",
    "_Feature"
   ],
   "window_display": false
  }
 },
 "nbformat": 4,
 "nbformat_minor": 4
}
